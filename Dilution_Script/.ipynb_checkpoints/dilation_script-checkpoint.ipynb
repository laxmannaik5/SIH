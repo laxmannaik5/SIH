{
 "cells": [
  {
   "cell_type": "code",
   "execution_count": 1,
   "id": "dacb0306",
   "metadata": {},
   "outputs": [],
   "source": [
    "import cv2"
   ]
  },
  {
   "cell_type": "code",
   "execution_count": 2,
   "id": "18c942c4",
   "metadata": {},
   "outputs": [],
   "source": [
    "import numpy as np"
   ]
  },
  {
   "cell_type": "code",
   "execution_count": 3,
   "id": "3292c7b0",
   "metadata": {},
   "outputs": [],
   "source": [
    "import matplotlib.pyplot as plt"
   ]
  },
  {
   "cell_type": "code",
   "execution_count": 4,
   "id": "1b016184",
   "metadata": {},
   "outputs": [],
   "source": [
    "l_img = cv2.imread('image.jpg')"
   ]
  },
  {
   "cell_type": "code",
   "execution_count": 5,
   "id": "d0e35cba",
   "metadata": {},
   "outputs": [
    {
     "ename": "TypeError",
     "evalue": "'NoneType' object is not subscriptable",
     "output_type": "error",
     "traceback": [
      "\u001b[1;31m---------------------------------------------------------------------------\u001b[0m",
      "\u001b[1;31mTypeError\u001b[0m                                 Traceback (most recent call last)",
      "\u001b[1;32m<ipython-input-5-48e03ac1a58b>\u001b[0m in \u001b[0;36m<module>\u001b[1;34m\u001b[0m\n\u001b[1;32m----> 1\u001b[1;33m \u001b[0mimg\u001b[0m \u001b[1;33m=\u001b[0m \u001b[0ml_img\u001b[0m\u001b[1;33m[\u001b[0m\u001b[1;36m470\u001b[0m\u001b[1;33m:\u001b[0m\u001b[1;33m,\u001b[0m\u001b[1;36m300\u001b[0m\u001b[1;33m:\u001b[0m\u001b[1;33m,\u001b[0m\u001b[1;33m:\u001b[0m\u001b[1;33m]\u001b[0m\u001b[1;33m\u001b[0m\u001b[1;33m\u001b[0m\u001b[0m\n\u001b[0m",
      "\u001b[1;31mTypeError\u001b[0m: 'NoneType' object is not subscriptable"
     ]
    }
   ],
   "source": [
    "img = l_img[470:,300:,:]"
   ]
  },
  {
   "cell_type": "code",
   "execution_count": null,
   "id": "222c4f27",
   "metadata": {},
   "outputs": [],
   "source": [
    "plt.imshow(img, cmap='gray')"
   ]
  },
  {
   "cell_type": "code",
   "execution_count": null,
   "id": "ca433ecc",
   "metadata": {},
   "outputs": [],
   "source": [
    "kernel1 = np.ones( (3,3), dtype=np.uint8 )"
   ]
  },
  {
   "cell_type": "code",
   "execution_count": null,
   "id": "a8dbdfb4",
   "metadata": {},
   "outputs": [],
   "source": [
    "erode_img1 = cv2.erode(img,kernel1,iterations=2)\n",
    "dil_img1 = cv2.dilate(erode_img1,kernel1)\n",
    "\n",
    "cv2.imshow('1',img)\n",
    "\n",
    "cv2.imshow('2',erode_img1)\n",
    "cv2.imwrite('img.png', erode_img1)\n",
    "\n",
    "cv2.imshow('3',dil_img1)\n",
    "\n",
    "\n",
    "cv2.waitKey()\n",
    "cv2.destroyAllWindows()\n"
   ]
  },
  {
   "cell_type": "code",
   "execution_count": null,
   "id": "babe2dc3",
   "metadata": {},
   "outputs": [],
   "source": [
    "#cv2.imshow('1',img) \n",
    "#cv2.imshow('2',erode_img1) \n",
    "#cv2.waitKey() \n",
    "#cv2.destroyAllWindows()"
   ]
  },
  {
   "cell_type": "markdown",
   "id": "c74ee589",
   "metadata": {},
   "source": []
  },
  {
   "cell_type": "code",
   "execution_count": null,
   "id": "6a522bde",
   "metadata": {},
   "outputs": [],
   "source": []
  },
  {
   "cell_type": "markdown",
   "id": "fe765f5f",
   "metadata": {},
   "source": []
  },
  {
   "cell_type": "code",
   "execution_count": null,
   "id": "83fc0631",
   "metadata": {},
   "outputs": [],
   "source": [
    "#kernel2 = np.ones( (1,3), dtype=np.uint8 )"
   ]
  },
  {
   "cell_type": "code",
   "execution_count": null,
   "id": "f2d0bc26",
   "metadata": {},
   "outputs": [],
   "source": [
    "#dil_img1 = cv2.dilate(erode_img1,kernel1)"
   ]
  },
  {
   "cell_type": "code",
   "execution_count": null,
   "id": "23f336c9",
   "metadata": {},
   "outputs": [],
   "source": [
    "'''\n",
    "cv2.imshow('1',img)\n",
    "\n",
    "cv2.imshow('2',erode_img1)\n",
    "cv2.imwrite('img2.png', erode_img1)\n",
    "\n",
    "cv2.imshow('3',dil_img1)\n",
    "\n",
    "\n",
    "cv2.waitKey()\n",
    "cv2.destroyAllWindows()\n",
    "'''"
   ]
  },
  {
   "cell_type": "code",
   "execution_count": null,
   "id": "1adbf570",
   "metadata": {},
   "outputs": [],
   "source": [
    " #erode_img2 = cv2.erode(dil_img1, kernel1)"
   ]
  },
  {
   "cell_type": "code",
   "execution_count": null,
   "id": "c8d1b333",
   "metadata": {},
   "outputs": [],
   "source": [
    "#dil_img2 = cv2.dilate(erode_img2,kernel1)"
   ]
  },
  {
   "cell_type": "code",
   "execution_count": null,
   "id": "073b8927",
   "metadata": {},
   "outputs": [],
   "source": [
    "'''\n",
    "cv2.imshow('1',img)\n",
    "cv2.imshow('2',erode_img2)\n",
    "cv2.imshow('3',dil_img2)\n",
    "cv2.waitKey()\n",
    "cv2.destroyAllWindows()\n",
    "'''"
   ]
  },
  {
   "cell_type": "code",
   "execution_count": null,
   "id": "13cae632",
   "metadata": {},
   "outputs": [],
   "source": [
    "'''\n",
    "import cv2\n",
    "import numpy as np\n",
    "\n",
    "img = cv2.imread('img1', 0)\n",
    "_, blackAndWhite = cv2.threshold(img, 127, 255, cv2.THRESH_BINARY_INV)\n",
    "\n",
    "nlabels, labels, stats, centroids = cv2.connectedComponentsWithStats(blackAndWhite, None, None, None, 8, cv2.CV_32S)\n",
    "sizes = stats[1:, -1] #get CC_STAT_AREA component\n",
    "img2 = np.zeros((labels.shape), np.uint8)\n",
    "\n",
    "for i in range(0, nlabels - 1):\n",
    "    if sizes[i] >= 50:   #filter small dotted regions\n",
    "        img2[labels == i + 1] = 255\n",
    "\n",
    "res = cv2.bitwise_not(img2)\n",
    "\n",
    "cv2.imwrite('res.png', res)\n",
    "'''"
   ]
  },
  {
   "cell_type": "code",
   "execution_count": null,
   "id": "a1e7540f",
   "metadata": {},
   "outputs": [],
   "source": [
    "#a = cv2.cvtColor(dil_img1, cv2.COLOR_BGR2GRAY)"
   ]
  },
  {
   "cell_type": "code",
   "execution_count": null,
   "id": "0225f2f1",
   "metadata": {},
   "outputs": [],
   "source": [
    "'''\n",
    "cv2.imshow('3',a)\n",
    "cv2.imwrite('3.png', a)\n",
    "cv2.waitKey()\n",
    "cv2.destroyAllWindows()\n",
    "'''"
   ]
  },
  {
   "cell_type": "code",
   "execution_count": null,
   "id": "8070b23a",
   "metadata": {},
   "outputs": [],
   "source": []
  }
 ],
 "metadata": {
  "kernelspec": {
   "display_name": "Python 3",
   "language": "python",
   "name": "python3"
  },
  "language_info": {
   "codemirror_mode": {
    "name": "ipython",
    "version": 3
   },
   "file_extension": ".py",
   "mimetype": "text/x-python",
   "name": "python",
   "nbconvert_exporter": "python",
   "pygments_lexer": "ipython3",
   "version": "3.8.8"
  }
 },
 "nbformat": 4,
 "nbformat_minor": 5
}
