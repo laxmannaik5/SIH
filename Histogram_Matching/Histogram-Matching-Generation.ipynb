{
 "cells": [
  {
   "cell_type": "code",
   "execution_count": 1,
   "id": "67bf3a0b",
   "metadata": {},
   "outputs": [],
   "source": [
    "import matplotlib.pyplot as plt\n",
    "import numpy as np\n",
    "from tqdm import tqdm\n",
    "import os.path\n",
    "from scipy import stats\n",
    "import random\n",
    "import PIL.ImageDraw as ImageDraw\n",
    "import PIL.Image as Image\n",
    "import math\n",
    "\n",
    "\n",
    "\n"
   ]
  },
  {
   "cell_type": "code",
   "execution_count": 10,
   "id": "0506c3b3",
   "metadata": {},
   "outputs": [],
   "source": [
    "def load_images():\n",
    "    img_path = './imgs/'\n",
    "    imgs = []\n",
    "    for file in tqdm(os.listdir(img_path)):\n",
    "        imgs.append(np.array(Image.open(img_path + file)))\n",
    "    return imgs"
   ]
  },
  {
   "cell_type": "code",
   "execution_count": 11,
   "id": "98f561ce",
   "metadata": {},
   "outputs": [
    {
     "name": "stderr",
     "output_type": "stream",
     "text": [
      "100%|████████████████████████████████████████████████████████████████████████████████████| 1/1 [00:00<00:00, 38.56it/s]\n"
     ]
    }
   ],
   "source": [
    "img = load_images()[0]"
   ]
  },
  {
   "cell_type": "code",
   "execution_count": 12,
   "id": "dae45f4b",
   "metadata": {},
   "outputs": [],
   "source": [
    "def generate_histogram(img):\n",
    "    \"\"\"\n",
    "    @params: img: can be a grayscale or color image. We calculate the Normalized histogram of this image.\n",
    "    @params: do_print: if or not print the result histogram\n",
    "    @return: will return both histogram and the grayscale image \n",
    "    \"\"\"\n",
    "    if len(img.shape) == 3: # img is colorful, so we convert it to grayscale\n",
    "        gr_img = np.mean(img, axis=-1)\n",
    "    else:\n",
    "        gr_img = img\n",
    "    '''now we calc grayscale histogram'''\n",
    "    gr_hist = np.zeros([256])\n",
    "\n",
    "    for x_pixel in range(gr_img.shape[0]):\n",
    "        for y_pixel in range(gr_img.shape[1]):\n",
    "            pixel_value = int(gr_img[x_pixel, y_pixel])\n",
    "            gr_hist[pixel_value] += 1\n",
    "            \n",
    "    '''normalizing the Histogram'''\n",
    "    ##gr_hist /= (gr_img.shape[0] * gr_img.shape[1])\n",
    "    return gr_hist, gr_img"
   ]
  },
  {
   "cell_type": "code",
   "execution_count": 13,
   "id": "877261d0",
   "metadata": {},
   "outputs": [
    {
     "data": {
      "text/plain": [
       "256"
      ]
     },
     "execution_count": 13,
     "metadata": {},
     "output_type": "execute_result"
    }
   ],
   "source": [
    "len(generate_histogram(img)[0])"
   ]
  },
  {
   "cell_type": "code",
   "execution_count": 6,
   "id": "22e3f908",
   "metadata": {},
   "outputs": [],
   "source": [
    "pixel_count1 = generate_histogram(img)[0]"
   ]
  },
  {
   "cell_type": "code",
   "execution_count": 7,
   "id": "3aa0d772",
   "metadata": {},
   "outputs": [],
   "source": [
    "intensity = list(range(0,256))"
   ]
  },
  {
   "cell_type": "code",
   "execution_count": 8,
   "id": "740b5dc7",
   "metadata": {},
   "outputs": [],
   "source": [
    "import pandas as pd"
   ]
  },
  {
   "cell_type": "code",
   "execution_count": 18,
   "id": "17745c58",
   "metadata": {},
   "outputs": [
    {
     "data": {
      "text/html": [
       "<div>\n",
       "<style scoped>\n",
       "    .dataframe tbody tr th:only-of-type {\n",
       "        vertical-align: middle;\n",
       "    }\n",
       "\n",
       "    .dataframe tbody tr th {\n",
       "        vertical-align: top;\n",
       "    }\n",
       "\n",
       "    .dataframe thead th {\n",
       "        text-align: right;\n",
       "    }\n",
       "</style>\n",
       "<table border=\"1\" class=\"dataframe\">\n",
       "  <thead>\n",
       "    <tr style=\"text-align: right;\">\n",
       "      <th></th>\n",
       "      <th>pixel_count1</th>\n",
       "    </tr>\n",
       "  </thead>\n",
       "  <tbody>\n",
       "    <tr>\n",
       "      <th>0</th>\n",
       "      <td>75.0</td>\n",
       "    </tr>\n",
       "    <tr>\n",
       "      <th>1</th>\n",
       "      <td>0.0</td>\n",
       "    </tr>\n",
       "    <tr>\n",
       "      <th>2</th>\n",
       "      <td>53.0</td>\n",
       "    </tr>\n",
       "    <tr>\n",
       "      <th>3</th>\n",
       "      <td>61.0</td>\n",
       "    </tr>\n",
       "    <tr>\n",
       "      <th>4</th>\n",
       "      <td>82.0</td>\n",
       "    </tr>\n",
       "    <tr>\n",
       "      <th>...</th>\n",
       "      <td>...</td>\n",
       "    </tr>\n",
       "    <tr>\n",
       "      <th>251</th>\n",
       "      <td>0.0</td>\n",
       "    </tr>\n",
       "    <tr>\n",
       "      <th>252</th>\n",
       "      <td>0.0</td>\n",
       "    </tr>\n",
       "    <tr>\n",
       "      <th>253</th>\n",
       "      <td>0.0</td>\n",
       "    </tr>\n",
       "    <tr>\n",
       "      <th>254</th>\n",
       "      <td>0.0</td>\n",
       "    </tr>\n",
       "    <tr>\n",
       "      <th>255</th>\n",
       "      <td>0.0</td>\n",
       "    </tr>\n",
       "  </tbody>\n",
       "</table>\n",
       "<p>256 rows × 1 columns</p>\n",
       "</div>"
      ],
      "text/plain": [
       "     pixel_count1\n",
       "0            75.0\n",
       "1             0.0\n",
       "2            53.0\n",
       "3            61.0\n",
       "4            82.0\n",
       "..            ...\n",
       "251           0.0\n",
       "252           0.0\n",
       "253           0.0\n",
       "254           0.0\n",
       "255           0.0\n",
       "\n",
       "[256 rows x 1 columns]"
      ]
     },
     "execution_count": 18,
     "metadata": {},
     "output_type": "execute_result"
    }
   ],
   "source": [
    "pd.DataFrame(pixel_count1, columns = ['pixel_count1'])"
   ]
  },
  {
   "cell_type": "code",
   "execution_count": 14,
   "id": "9421f9cb",
   "metadata": {},
   "outputs": [],
   "source": [
    "pixel_count2 = generate_histogram(img)[0]"
   ]
  },
  {
   "cell_type": "code",
   "execution_count": 15,
   "id": "d71124af",
   "metadata": {},
   "outputs": [
    {
     "data": {
      "text/plain": [
       "array([4.0000e+00, 8.0000e+00, 9.0000e+00, 1.2000e+01, 2.5000e+01,\n",
       "       3.1000e+01, 5.6000e+01, 5.4000e+01, 7.0000e+01, 9.5000e+01,\n",
       "       9.0000e+01, 1.0000e+02, 1.3700e+02, 1.4400e+02, 1.4000e+02,\n",
       "       1.3600e+02, 1.3400e+02, 1.1600e+02, 1.4100e+02, 1.0000e+02,\n",
       "       1.2700e+02, 1.3400e+02, 1.3800e+02, 1.3300e+02, 1.5000e+02,\n",
       "       1.6200e+02, 1.3400e+02, 1.4700e+02, 1.2500e+02, 1.8600e+02,\n",
       "       1.7300e+02, 1.7000e+02, 1.7500e+02, 1.7500e+02, 1.5900e+02,\n",
       "       1.7500e+02, 1.7700e+02, 1.7000e+02, 1.8300e+02, 2.1500e+02,\n",
       "       2.3100e+02, 2.4000e+02, 2.2000e+02, 2.2500e+02, 2.3100e+02,\n",
       "       2.3600e+02, 2.5700e+02, 2.3500e+02, 2.8000e+02, 2.7100e+02,\n",
       "       2.5000e+02, 2.7800e+02, 2.5800e+02, 2.7400e+02, 2.8000e+02,\n",
       "       2.6000e+02, 2.6700e+02, 3.1500e+02, 3.0400e+02, 3.5900e+02,\n",
       "       3.7500e+02, 3.2200e+02, 3.5300e+02, 3.5800e+02, 3.8000e+02,\n",
       "       3.7900e+02, 4.2800e+02, 4.3000e+02, 4.6000e+02, 5.2500e+02,\n",
       "       5.1300e+02, 5.5200e+02, 5.9000e+02, 6.4100e+02, 6.5500e+02,\n",
       "       7.1100e+02, 7.2700e+02, 7.9400e+02, 8.3600e+02, 8.8300e+02,\n",
       "       9.2000e+02, 1.0360e+03, 1.0830e+03, 1.1480e+03, 1.2210e+03,\n",
       "       1.2770e+03, 1.4000e+03, 1.5500e+03, 1.6410e+03, 1.6410e+03,\n",
       "       1.7850e+03, 1.9190e+03, 1.9580e+03, 2.0960e+03, 2.0950e+03,\n",
       "       2.2610e+03, 2.4340e+03, 2.6150e+03, 2.6570e+03, 2.6560e+03,\n",
       "       3.0150e+03, 3.0930e+03, 3.3430e+03, 3.5320e+03, 3.7430e+03,\n",
       "       3.8030e+03, 3.9100e+03, 4.0530e+03, 4.4390e+03, 4.6100e+03,\n",
       "       4.6280e+03, 4.9630e+03, 5.0150e+03, 5.3750e+03, 5.5940e+03,\n",
       "       5.8440e+03, 5.9670e+03, 6.3210e+03, 6.3430e+03, 6.4900e+03,\n",
       "       6.6280e+03, 6.8940e+03, 7.3050e+03, 7.6290e+03, 8.3200e+03,\n",
       "       8.6590e+03, 9.0290e+03, 9.3240e+03, 1.0026e+04, 1.0428e+04,\n",
       "       1.0483e+04, 1.0481e+04, 9.9330e+03, 9.6140e+03, 9.6250e+03,\n",
       "       9.6330e+03, 9.5840e+03, 9.6670e+03, 9.8020e+03, 1.0211e+04,\n",
       "       1.1106e+04, 1.1893e+04, 1.2829e+04, 1.3589e+04, 1.3267e+04,\n",
       "       1.2739e+04, 1.3442e+04, 1.3339e+04, 1.3100e+04, 1.2556e+04,\n",
       "       1.2564e+04, 1.1438e+04, 1.1334e+04, 1.1223e+04, 1.1127e+04,\n",
       "       1.0043e+04, 1.0432e+04, 9.8780e+03, 9.5700e+03, 8.8550e+03,\n",
       "       9.7330e+03, 7.1880e+03, 7.3330e+03, 7.3580e+03, 7.6160e+03,\n",
       "       8.3210e+03, 9.4390e+03, 7.1080e+03, 7.9950e+03, 7.5290e+03,\n",
       "       7.9400e+03, 7.0630e+03, 7.0720e+03, 3.9560e+03, 3.7450e+03,\n",
       "       2.5640e+03, 1.5980e+03, 1.6940e+03, 1.3010e+03, 1.0600e+03,\n",
       "       9.8200e+02, 8.0800e+02, 7.6500e+02, 6.9100e+02, 6.7800e+02,\n",
       "       6.5800e+02, 5.9200e+02, 6.0400e+02, 6.0600e+02, 5.4600e+02,\n",
       "       5.5300e+02, 5.7300e+02, 5.8100e+02, 5.3000e+02, 5.3600e+02,\n",
       "       5.3100e+02, 5.2200e+02, 5.2600e+02, 5.2200e+02, 5.2800e+02,\n",
       "       5.6000e+02, 5.7300e+02, 5.5500e+02, 5.6300e+02, 5.5500e+02,\n",
       "       5.8500e+02, 6.1300e+02, 5.7300e+02, 6.7800e+02, 6.7000e+02,\n",
       "       6.1000e+02, 6.4100e+02, 6.4500e+02, 6.7900e+02, 6.1100e+02,\n",
       "       7.0300e+02, 6.1700e+02, 6.2800e+02, 5.8800e+02, 6.5200e+02,\n",
       "       6.5200e+02, 5.9700e+02, 5.7000e+02, 5.3400e+02, 5.4800e+02,\n",
       "       5.5200e+02, 5.7300e+02, 4.9400e+02, 4.9200e+02, 4.8100e+02,\n",
       "       4.9200e+02, 5.3800e+02, 5.1300e+02, 5.0500e+02, 5.4800e+02,\n",
       "       6.3100e+02, 6.1300e+02, 5.9100e+02, 4.2600e+02, 3.7300e+02,\n",
       "       2.6400e+02, 2.1700e+02, 1.9300e+02, 1.9600e+02, 1.8100e+02,\n",
       "       2.0900e+02, 8.1000e+01, 2.0000e+01, 5.0000e+00, 1.0000e+00,\n",
       "       0.0000e+00, 0.0000e+00, 0.0000e+00, 0.0000e+00, 0.0000e+00,\n",
       "       0.0000e+00])"
      ]
     },
     "execution_count": 15,
     "metadata": {},
     "output_type": "execute_result"
    }
   ],
   "source": [
    "pixel_count2"
   ]
  },
  {
   "cell_type": "code",
   "execution_count": 16,
   "id": "8190c2dc",
   "metadata": {},
   "outputs": [
    {
     "data": {
      "text/html": [
       "<div>\n",
       "<style scoped>\n",
       "    .dataframe tbody tr th:only-of-type {\n",
       "        vertical-align: middle;\n",
       "    }\n",
       "\n",
       "    .dataframe tbody tr th {\n",
       "        vertical-align: top;\n",
       "    }\n",
       "\n",
       "    .dataframe thead th {\n",
       "        text-align: right;\n",
       "    }\n",
       "</style>\n",
       "<table border=\"1\" class=\"dataframe\">\n",
       "  <thead>\n",
       "    <tr style=\"text-align: right;\">\n",
       "      <th></th>\n",
       "      <th>pixel_count2</th>\n",
       "    </tr>\n",
       "  </thead>\n",
       "  <tbody>\n",
       "    <tr>\n",
       "      <th>0</th>\n",
       "      <td>4.0</td>\n",
       "    </tr>\n",
       "    <tr>\n",
       "      <th>1</th>\n",
       "      <td>8.0</td>\n",
       "    </tr>\n",
       "    <tr>\n",
       "      <th>2</th>\n",
       "      <td>9.0</td>\n",
       "    </tr>\n",
       "    <tr>\n",
       "      <th>3</th>\n",
       "      <td>12.0</td>\n",
       "    </tr>\n",
       "    <tr>\n",
       "      <th>4</th>\n",
       "      <td>25.0</td>\n",
       "    </tr>\n",
       "    <tr>\n",
       "      <th>...</th>\n",
       "      <td>...</td>\n",
       "    </tr>\n",
       "    <tr>\n",
       "      <th>251</th>\n",
       "      <td>0.0</td>\n",
       "    </tr>\n",
       "    <tr>\n",
       "      <th>252</th>\n",
       "      <td>0.0</td>\n",
       "    </tr>\n",
       "    <tr>\n",
       "      <th>253</th>\n",
       "      <td>0.0</td>\n",
       "    </tr>\n",
       "    <tr>\n",
       "      <th>254</th>\n",
       "      <td>0.0</td>\n",
       "    </tr>\n",
       "    <tr>\n",
       "      <th>255</th>\n",
       "      <td>0.0</td>\n",
       "    </tr>\n",
       "  </tbody>\n",
       "</table>\n",
       "<p>256 rows × 1 columns</p>\n",
       "</div>"
      ],
      "text/plain": [
       "     pixel_count2\n",
       "0             4.0\n",
       "1             8.0\n",
       "2             9.0\n",
       "3            12.0\n",
       "4            25.0\n",
       "..            ...\n",
       "251           0.0\n",
       "252           0.0\n",
       "253           0.0\n",
       "254           0.0\n",
       "255           0.0\n",
       "\n",
       "[256 rows x 1 columns]"
      ]
     },
     "execution_count": 16,
     "metadata": {},
     "output_type": "execute_result"
    }
   ],
   "source": [
    "pd.DataFrame(pixel_count2, columns = ['pixel_count2'])"
   ]
  },
  {
   "cell_type": "code",
   "execution_count": 17,
   "id": "fa177a8f",
   "metadata": {},
   "outputs": [
    {
     "data": {
      "text/plain": [
       "array([7.500e+01, 0.000e+00, 5.300e+01, 6.100e+01, 8.200e+01, 7.700e+01,\n",
       "       4.200e+01, 5.900e+01, 7.700e+01, 9.200e+01, 2.260e+02, 9.400e+01,\n",
       "       1.450e+02, 2.060e+02, 2.050e+02, 4.110e+02, 5.250e+02, 4.970e+02,\n",
       "       7.160e+02, 7.300e+02, 8.970e+02, 7.440e+02, 7.320e+02, 8.220e+02,\n",
       "       8.710e+02, 8.170e+02, 7.550e+02, 9.890e+02, 1.147e+03, 1.112e+03,\n",
       "       1.024e+03, 1.115e+03, 1.084e+03, 1.283e+03, 1.361e+03, 1.195e+03,\n",
       "       1.272e+03, 1.208e+03, 1.328e+03, 1.518e+03, 1.610e+03, 1.487e+03,\n",
       "       1.198e+03, 1.354e+03, 1.348e+03, 1.397e+03, 1.323e+03, 1.445e+03,\n",
       "       1.405e+03, 1.484e+03, 1.373e+03, 1.309e+03, 1.377e+03, 1.392e+03,\n",
       "       1.195e+03, 1.170e+03, 1.090e+03, 1.253e+03, 1.327e+03, 1.321e+03,\n",
       "       1.263e+03, 1.226e+03, 1.316e+03, 1.562e+03, 1.477e+03, 1.734e+03,\n",
       "       1.611e+03, 1.622e+03, 1.787e+03, 1.834e+03, 1.796e+03, 1.974e+03,\n",
       "       1.828e+03, 1.986e+03, 2.138e+03, 2.055e+03, 2.118e+03, 2.113e+03,\n",
       "       2.158e+03, 2.031e+03, 2.087e+03, 2.012e+03, 2.085e+03, 2.213e+03,\n",
       "       2.452e+03, 1.532e+03, 1.492e+03, 1.381e+03, 1.374e+03, 1.281e+03,\n",
       "       1.195e+03, 1.204e+03, 1.049e+03, 1.033e+03, 9.470e+02, 9.590e+02,\n",
       "       9.670e+02, 8.510e+02, 9.690e+02, 8.890e+02, 8.270e+02, 8.420e+02,\n",
       "       8.160e+02, 7.740e+02, 7.990e+02, 9.200e+02, 7.180e+02, 7.980e+02,\n",
       "       7.490e+02, 7.730e+02, 8.380e+02, 7.230e+02, 7.170e+02, 7.470e+02,\n",
       "       6.310e+02, 6.110e+02, 6.770e+02, 6.020e+02, 6.270e+02, 5.420e+02,\n",
       "       6.050e+02, 6.370e+02, 6.440e+02, 6.110e+02, 5.850e+02, 6.640e+02,\n",
       "       5.450e+02, 5.320e+02, 6.110e+02, 5.610e+02, 5.680e+02, 6.100e+02,\n",
       "       4.690e+02, 4.970e+02, 5.370e+02, 5.460e+02, 5.040e+02, 4.860e+02,\n",
       "       5.640e+02, 5.260e+02, 4.870e+02, 5.240e+02, 4.870e+02, 5.440e+02,\n",
       "       5.530e+02, 6.420e+02, 4.890e+02, 4.650e+02, 5.360e+02, 5.570e+02,\n",
       "       6.100e+02, 4.830e+02, 5.520e+02, 4.490e+02, 4.160e+02, 4.020e+02,\n",
       "       3.740e+02, 4.110e+02, 3.530e+02, 3.250e+02, 3.950e+02, 3.670e+02,\n",
       "       3.470e+02, 3.120e+02, 3.280e+02, 3.170e+02, 2.620e+02, 2.690e+02,\n",
       "       2.720e+02, 2.190e+02, 2.570e+02, 2.360e+02, 1.670e+02, 1.340e+02,\n",
       "       1.420e+02, 1.010e+02, 1.050e+02, 1.050e+02, 7.900e+01, 5.500e+01,\n",
       "       4.500e+01, 1.200e+01, 1.200e+01, 3.000e+00, 1.000e+00, 2.000e+00,\n",
       "       0.000e+00, 0.000e+00, 0.000e+00, 0.000e+00, 0.000e+00, 0.000e+00,\n",
       "       0.000e+00, 0.000e+00, 0.000e+00, 0.000e+00, 0.000e+00, 0.000e+00,\n",
       "       0.000e+00, 0.000e+00, 0.000e+00, 0.000e+00, 0.000e+00, 0.000e+00,\n",
       "       0.000e+00, 0.000e+00, 0.000e+00, 0.000e+00, 0.000e+00, 0.000e+00,\n",
       "       0.000e+00, 0.000e+00, 0.000e+00, 0.000e+00, 0.000e+00, 0.000e+00,\n",
       "       0.000e+00, 0.000e+00, 0.000e+00, 0.000e+00, 0.000e+00, 0.000e+00,\n",
       "       0.000e+00, 0.000e+00, 0.000e+00, 0.000e+00, 0.000e+00, 0.000e+00,\n",
       "       0.000e+00, 0.000e+00, 0.000e+00, 0.000e+00, 0.000e+00, 0.000e+00,\n",
       "       0.000e+00, 0.000e+00, 0.000e+00, 0.000e+00, 0.000e+00, 0.000e+00,\n",
       "       0.000e+00, 0.000e+00, 0.000e+00, 0.000e+00, 0.000e+00, 0.000e+00,\n",
       "       0.000e+00, 0.000e+00, 0.000e+00, 0.000e+00, 0.000e+00, 0.000e+00,\n",
       "       0.000e+00, 0.000e+00, 0.000e+00, 0.000e+00])"
      ]
     },
     "execution_count": 17,
     "metadata": {},
     "output_type": "execute_result"
    }
   ],
   "source": [
    "pixel_count1"
   ]
  },
  {
   "cell_type": "code",
   "execution_count": null,
   "id": "63fa4d41",
   "metadata": {},
   "outputs": [],
   "source": [
    "generate_histogram(img)"
   ]
  },
  {
   "cell_type": "code",
   "execution_count": 19,
   "id": "cdfd36d6",
   "metadata": {},
   "outputs": [],
   "source": [
    "r = np.corrcoef(pixel_count1, pixel_count2)"
   ]
  },
  {
   "cell_type": "code",
   "execution_count": 20,
   "id": "60574196",
   "metadata": {},
   "outputs": [
    {
     "data": {
      "text/plain": [
       "array([[ 1.        , -0.07814372],\n",
       "       [-0.07814372,  1.        ]])"
      ]
     },
     "execution_count": 20,
     "metadata": {},
     "output_type": "execute_result"
    }
   ],
   "source": [
    "r"
   ]
  },
  {
   "cell_type": "code",
   "execution_count": null,
   "id": "bb1ddb65",
   "metadata": {},
   "outputs": [],
   "source": []
  }
 ],
 "metadata": {
  "kernelspec": {
   "display_name": "Python 3",
   "language": "python",
   "name": "python3"
  },
  "language_info": {
   "codemirror_mode": {
    "name": "ipython",
    "version": 3
   },
   "file_extension": ".py",
   "mimetype": "text/x-python",
   "name": "python",
   "nbconvert_exporter": "python",
   "pygments_lexer": "ipython3",
   "version": "3.8.8"
  }
 },
 "nbformat": 4,
 "nbformat_minor": 5
}
